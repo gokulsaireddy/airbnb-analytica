{
 "cells": [
  {
   "cell_type": "code",
   "execution_count": 2,
   "metadata": {},
   "outputs": [
    {
     "data": {
      "text/html": [
       "\n",
       "            <div>\n",
       "                <p><b>SparkSession - in-memory</b></p>\n",
       "                \n",
       "        <div>\n",
       "            <p><b>SparkContext</b></p>\n",
       "\n",
       "            <p><a href=\"http://2182b0ac5522:4040\">Spark UI</a></p>\n",
       "\n",
       "            <dl>\n",
       "              <dt>Version</dt>\n",
       "                <dd><code>v3.5.0</code></dd>\n",
       "              <dt>Master</dt>\n",
       "                <dd><code>local[3]</code></dd>\n",
       "              <dt>AppName</dt>\n",
       "                <dd><code>Japan Analysis</code></dd>\n",
       "            </dl>\n",
       "        </div>\n",
       "        \n",
       "            </div>\n",
       "        "
      ],
      "text/plain": [
       "<pyspark.sql.session.SparkSession at 0x7f0781a7fad0>"
      ]
     },
     "execution_count": 2,
     "metadata": {},
     "output_type": "execute_result"
    }
   ],
   "source": [
    "from pyspark.sql import SparkSession\n",
    "spark = SparkSession.builder \\\n",
    "      .master(\"local[3]\") \\\n",
    "      .appName(\"Japan Analysis\") \\\n",
    "      .getOrCreate()\n",
    "sc = spark.sparkContext\n",
    "spark"
   ]
  },
  {
   "cell_type": "code",
   "execution_count": 3,
   "metadata": {},
   "outputs": [
    {
     "data": {
      "text/plain": [
       "StructType([StructField('host_id', IntegerType(), True), StructField('host_url', StringType(), True), StructField('host_name', StringType(), True), StructField('host_since', DateType(), True), StructField('host_about', StringType(), True), StructField('host_response_time', StringType(), True), StructField('host_response_rate', StringType(), True), StructField('host_acceptance_rate', StringType(), True), StructField('host_is_superhost', StringType(), True), StructField('host_neighbourhood', StringType(), True), StructField('host_total_listings_count', IntegerType(), True), StructField('host_verifications', StringType(), True), StructField('host_identity_verified', StringType(), True)])"
      ]
     },
     "execution_count": 3,
     "metadata": {},
     "output_type": "execute_result"
    }
   ],
   "source": [
    "# schemas\n",
    "from pyspark.sql.types import StructType, StructField, StringType, DateType, BooleanType, IntegerType, ArrayType\n",
    "\n",
    "base = '/home/jovyan/code/airbnb_data/japan/'\n",
    "\n",
    "calender_file = base + 'calendar.csv'\n",
    "\n",
    "\n",
    "calender_schema = StructType(\n",
    "    [StructField(\"listing_id\",StringType()),\n",
    "     StructField(\"date\",DateType()),\n",
    "     StructField(\"available\",StringType()),\n",
    "     StructField(\"act_price\",StringType()),\n",
    "     StructField(\"adj_price\",StringType()),\n",
    "     StructField(\"min_nights\",IntegerType()),\n",
    "     StructField(\"max_nights\",IntegerType()),\n",
    "     ]\n",
    ")\n",
    "\n",
    "# host_id\thost_url\thost_name\thost_since\thost_location\thost_about\thost_response_time\t\n",
    "# host_response_rate\thost_acceptance_rate\thost_is_superhost\n",
    "# host_neighbourhood\thost_listings_count (particular listing)\t \n",
    "# host_total_listings_count\thost_verifications\thost_identity_verified\n",
    "\n",
    "host_schema = StructType(\n",
    "    [StructField(\"host_id\",IntegerType()),\n",
    "     StructField(\"host_url\",StringType()),\n",
    "     StructField(\"host_name\",StringType()),\n",
    "     StructField(\"host_since\",DateType()),\n",
    "     StructField(\"host_about\",StringType()),\n",
    "     StructField(\"host_response_time\",StringType()),\n",
    "     StructField(\"host_response_rate\",StringType()),\n",
    "     StructField(\"host_acceptance_rate\",StringType()),\n",
    "     StructField(\"host_is_superhost\",StringType()),\n",
    "     StructField(\"host_neighbourhood\",StringType()),\n",
    "     StructField(\"host_total_listings_count\",IntegerType()),\n",
    "     StructField(\"host_verifications\",StringType()),\n",
    "     StructField(\"host_identity_verified\",StringType())\n",
    "     ]\n",
    ")\n",
    "calender_schema\n",
    "host_schema"
   ]
  },
  {
   "cell_type": "code",
   "execution_count": 4,
   "metadata": {},
   "outputs": [
    {
     "name": "stdout",
     "output_type": "stream",
     "text": [
      "+----------+----------+---------+---------+---------+----------+----------+\n",
      "|listing_id|      date|available|act_price|adj_price|min_nights|max_nights|\n",
      "+----------+----------+---------+---------+---------+----------+----------+\n",
      "|    197677|2023-09-24|    false|  1200000|  1200000|         3|      1125|\n",
      "|    197677|2023-09-25|    false|  1200000|  1200000|         3|      1125|\n",
      "|    197677|2023-09-26|    false|  1200000|  1200000|         3|      1125|\n",
      "+----------+----------+---------+---------+---------+----------+----------+\n",
      "only showing top 3 rows\n",
      "\n",
      "+----------+----+-----+\n",
      "|      date|true|false|\n",
      "+----------+----+-----+\n",
      "|2024-09-22|2332| 9893|\n",
      "|2024-09-21|2332| 9893|\n",
      "|2024-09-20|2332| 9893|\n",
      "+----------+----+-----+\n",
      "only showing top 3 rows\n",
      "\n"
     ]
    }
   ],
   "source": [
    "\"\"\"\n",
    "            Calculate the total number of available listings each day from the Calendar.csv.\n",
    "\n",
    "\"\"\"\n",
    "from pyspark.sql import DataFrame\n",
    "from pyspark.sql.functions import col,regexp_replace, when\n",
    "\n",
    "\n",
    "df: DataFrame = spark.read.csv(calender_file,schema =calender_schema, header=True)\n",
    "                    \n",
    "df = df.withColumn(\"act_price\",\n",
    "              regexp_replace(col(\"act_price\"),\"[$,.]\",\"\").cast(\"integer\"))   \n",
    "df = df.withColumn(\"adj_price\",\n",
    "              regexp_replace(col(\"adj_price\"),\"[$,.]\",\"\").cast(\"integer\"))  \n",
    "df = df.withColumn(\"available\",\n",
    "                   when(col(\"available\")=='f',False)\n",
    "                   .when(col(\"available\")=='t',True)\n",
    "                   .cast('boolean'))  \n",
    "df.show(3)\n",
    "new_df = df.groupBy(col(\"date\")).pivot('available',values=[True,False]).count().sort(col('date'),ascending=False)\n",
    "new_df.show(3)"
   ]
  },
  {
   "cell_type": "code",
   "execution_count": 7,
   "metadata": {},
   "outputs": [
    {
     "name": "stderr",
     "output_type": "stream",
     "text": [
      "/opt/conda/envs/vscode_pyspark/lib/python3.11/site-packages/pyspark/pandas/utils.py:1016: PandasAPIOnSparkAdviceWarning: If `index_col` is not specified for `to_spark`, the existing index is lost when converting to Spark DataFrame.\n",
      "  warnings.warn(message, PandasAPIOnSparkAdviceWarning)\n"
     ]
    }
   ],
   "source": [
    "# import csv\n",
    "\n",
    "# with open(listing_file, mode='r') as csv_file:\n",
    "#     csv_reader = csv.DictReader(csv_file)\n",
    "#     with open('your_updated_file.csv', 'w') as new_file:\n",
    "#         header = None\n",
    "#         cells = []\n",
    "#         for row in csv_reader:\n",
    "#             amen_str = row.get('amenities')\n",
    "#             split_line = amen_str.split(',')\n",
    "#             updated_line = ''\n",
    "#             for i in split_line:\n",
    "#                 i = i.replace('[', '').replace(']', '').replace('\"', '').strip()\n",
    "#                 updated_line += f\"{i}|\"\n",
    "#             row['amenities'] = updated_line\n",
    "#             nf = csv.writer(new_file)\n",
    "#             header = [list(row.keys())]\n",
    "#             cells.append(list(row.values()))\n",
    "#         nf.writerows( header )\n",
    "#         nf.writerows( cells )\n",
    "\"\"\"\n",
    "        Find the top 10 hosts with the most number of listings from the Listings.csv.\n",
    "\"\"\"\n",
    "import pandas as pd\n",
    "import pyspark.pandas as ps\n",
    "\n",
    "\n",
    "\n",
    "listing_file = base + 'listings_cleaned.csv'\n",
    "\n",
    "pandas_df = pd.read_csv(listing_file)         \n",
    "  \n",
    "host_df = ps.from_pandas(pandas_df).to_spark()\n"
   ]
  },
  {
   "cell_type": "code",
   "execution_count": 8,
   "metadata": {},
   "outputs": [
    {
     "name": "stdout",
     "output_type": "stream",
     "text": [
      "+-------+--------------------+--------------+------------+---------------+--------------------+--------------------+---------------------+--------------------+--------+--------------------+-------------------+----------+-------------+--------------------+------------------+------------------+--------------------+-----------------+--------------------+--------------------+------------------+-------------------+-------------------------+------------------+--------------------+----------------------+--------------------+----------------------+----------------------------+--------+---------+--------------------+---------------+------------+---------+--------------+--------+----+--------------------+----------+--------------+--------------+----------------------+----------------------+----------------------+----------------------+----------------------+----------------------+----------------+----------------+---------------+---------------+---------------+----------------+---------------------+-----------------+---------------------+----------------------+------------+-----------+--------------------+----------------------+-------------------------+---------------------+---------------------------+----------------------+-------------------+--------------------+----------------+------------------------------+-------------------------------------------+--------------------------------------------+-------------------------------------------+-----------------+\n",
      "|     id|         listing_url|     scrape_id|last_scraped|         source|                name|         description|neighborhood_overview|         picture_url| host_id|            host_url|          host_name|host_since|host_location|          host_about|host_response_time|host_response_rate|host_acceptance_rate|host_is_superhost|  host_thumbnail_url|    host_picture_url|host_neighbourhood|host_listings_count|host_total_listings_count|host_verifications|host_has_profile_pic|host_identity_verified|       neighbourhood|neighbourhood_cleansed|neighbourhood_group_cleansed|latitude|longitude|       property_type|      room_type|accommodates|bathrooms|bathrooms_text|bedrooms|beds|           amenities|     price|minimum_nights|maximum_nights|minimum_minimum_nights|maximum_minimum_nights|minimum_maximum_nights|maximum_maximum_nights|minimum_nights_avg_ntm|maximum_nights_avg_ntm|calendar_updated|has_availability|availability_30|availability_60|availability_90|availability_365|calendar_last_scraped|number_of_reviews|number_of_reviews_ltm|number_of_reviews_l30d|first_review|last_review|review_scores_rating|review_scores_accuracy|review_scores_cleanliness|review_scores_checkin|review_scores_communication|review_scores_location|review_scores_value|             license|instant_bookable|calculated_host_listings_count|calculated_host_listings_count_entire_homes|calculated_host_listings_count_private_rooms|calculated_host_listings_count_shared_rooms|reviews_per_month|\n",
      "+-------+--------------------+--------------+------------+---------------+--------------------+--------------------+---------------------+--------------------+--------+--------------------+-------------------+----------+-------------+--------------------+------------------+------------------+--------------------+-----------------+--------------------+--------------------+------------------+-------------------+-------------------------+------------------+--------------------+----------------------+--------------------+----------------------+----------------------------+--------+---------+--------------------+---------------+------------+---------+--------------+--------+----+--------------------+----------+--------------+--------------+----------------------+----------------------+----------------------+----------------------+----------------------+----------------------+----------------+----------------+---------------+---------------+---------------+----------------+---------------------+-----------------+---------------------+----------------------+------------+-----------+--------------------+----------------------+-------------------------+---------------------+---------------------------+----------------------+-------------------+--------------------+----------------+------------------------------+-------------------------------------------+--------------------------------------------+-------------------------------------------+-----------------+\n",
      "| 197677|https://www.airbn...|20230924051543|  2023-09-24|    city scrape|Rental unit in Su...|<b>The space</b><...|                 NULL|https://a0.muscac...|  964081|https://www.airbn...|    Yoshimi & Marek|2011-08-13| Tokyo, Japan|Would love to tra...|      within a day|              100%|                 94%|                t|https://a0.muscac...|https://a0.muscac...|   Sumida District|                  1|                        2|['email', 'phone']|                   t|                     t|                NULL|             Sumida Ku|                        NULL|35.71707|139.82608|  Entire rental unit|Entire home/apt|           2|     NULL|        1 bath|     1.0| 2.0|Microwave|Hangers...|$12,000.00|             3|          1125|                   3.0|                   3.0|                1125.0|                1125.0|                   3.0|                1125.0|            NULL|               t|              0|              0|              0|              39|           2023-09-24|              174|                    8|                     0|  2011-09-21| 2023-08-13|                4.77|                  4.74|                     4.92|                 4.84|                       4.83|                  4.53|               4.79|          M130003350|               f|                             1|                                          1|                                           0|                                          0|             1.19|\n",
      "|5240174|https://www.airbn...|20230924051543|  2023-09-24|previous scrape|Rental unit in Sh...|Minimalist simple...|                 NULL|https://a0.muscac...|24477517|https://www.airbn...|              Naoko|2014-12-04| Tokyo, Japan|I was born in Tok...|              NULL|              NULL|                NULL|                f|https://a0.muscac...|https://a0.muscac...|  Shibuya District|                  4|                        4|['email', 'phone']|                   t|                     t|                NULL|            Shibuya Ku|                        NULL|35.66339|139.68741|  Entire rental unit|Entire home/apt|           4|     NULL|        1 bath|    NULL| 1.0|First aid kit|Sto...| $9,264.00|             2|           180|                   2.0|                   2.0|                1125.0|                1125.0|                   2.0|                1125.0|            NULL|               t|              0|              0|              0|               0|           2023-09-24|              195|                    0|                     0|  2015-04-05| 2021-12-30|                4.52|                  4.62|                     4.54|                 4.77|                       4.83|                  4.29|                4.3|          M130005396|               t|                             4|                                          4|                                           0|                                          0|             1.89|\n",
      "|5262640|https://www.airbn...|20230924051543|  2023-09-24|    city scrape|Rental unit in Na...|It takes 5 min wa...| No smoking in the...|https://a0.muscac...|17736560|https://www.airbn...|  タツロウ (Taturo)|2014-07-06|Nakano, Japan|I am a retired pe...|    within an hour|              100%|                100%|                t|https://a0.muscac...|https://a0.muscac...|   Nakano District|                  9|                       16|['email', 'phone']|                   t|                     t|Nakano-ku, Tōkyō-...|             Nakano Ku|                        NULL|35.73445|139.63139|  Entire rental unit|Entire home/apt|           2|     NULL|        1 bath|     1.0| 1.0|Kitchen|TV|Fire e...| $7,419.00|             3|          1125|                   3.0|                   3.0|                1125.0|                1125.0|                   3.0|                1125.0|            NULL|               t|             30|             60|             90|              90|           2023-09-24|               61|                    9|                     0|  2015-03-26| 2023-08-14|                 4.8|                   4.9|                     4.85|                 4.93|                       4.87|                  4.61|               4.77|Hotels and Inns B...|               f|                             9|                                          9|                                           0|                                          0|             0.59|\n",
      "| 776070|https://www.airbn...|20230924051543|  2023-09-24|    city scrape|Home in Kita-ku ·...|We have been in a...| We love Nishinipp...|https://a0.muscac...|  801494|https://www.airbn...|                Kei|2011-07-10|        Japan|Love culture/food...|    within an hour|              100%|                100%|                t|https://a0.muscac...|https://a0.muscac...|     Kita District|                  1|                        6|['email', 'phone']|                   t|                     t|Kita-ku, Tokyo, J...|               Kita Ku|                        NULL|35.73844|139.76917|Private room in home|   Private room|           1|     NULL| 1 shared bath|    NULL| 1.0|Luggage dropoff a...| $8,902.00|             3|            14|                   3.0|                   3.0|                  14.0|                  14.0|                   3.0|                  14.0|            NULL|               t|              0|              0|              0|             116|           2023-09-24|              248|                   18|                     1|  2012-11-28| 2023-08-27|                4.98|                  4.96|                     4.92|                 4.98|                       4.98|                  4.84|               4.91|          M130000243|               f|                             1|                                          0|                                           1|                                          0|             1.88|\n",
      "| 905944|https://www.airbn...|20230924051543|  2023-09-24|    city scrape|Rental unit in Sh...|NEWLY RENOVATED p...| Hatagaya is a gre...|https://a0.muscac...| 4847803|https://www.airbn...|Best Stay In Tokyo!|2013-01-25| Tokyo, Japan|A host backed up ...|    within an hour|              100%|                100%|                t|https://a0.muscac...|https://a0.muscac...|  Shibuya District|                  5|                       18|['email', 'phone']|                   t|                     t|Shibuya, Tokyo, J...|            Shibuya Ku|                        NULL|35.67878|139.67847|  Entire rental unit|Entire home/apt|           6|     NULL|        1 bath|     2.0| 4.0|Japan available b...|$23,740.00|             3|          1125|                   1.0|                   5.0|                 365.0|                1125.0|                   3.7|                 906.6|            NULL|               t|              3|              7|             20|             166|           2023-09-24|              194|                    9|                     1|  2013-04-07| 2023-09-11|                4.77|                  4.79|                     4.76|                 4.87|                       4.91|                  4.78|               4.78|Hotels and Inns B...|               t|                             5|                                          5|                                           0|                                          0|             1.52|\n",
      "+-------+--------------------+--------------+------------+---------------+--------------------+--------------------+---------------------+--------------------+--------+--------------------+-------------------+----------+-------------+--------------------+------------------+------------------+--------------------+-----------------+--------------------+--------------------+------------------+-------------------+-------------------------+------------------+--------------------+----------------------+--------------------+----------------------+----------------------------+--------+---------+--------------------+---------------+------------+---------+--------------+--------+----+--------------------+----------+--------------+--------------+----------------------+----------------------+----------------------+----------------------+----------------------+----------------------+----------------+----------------+---------------+---------------+---------------+----------------+---------------------+-----------------+---------------------+----------------------+------------+-----------+--------------------+----------------------+-------------------------+---------------------+---------------------------+----------------------+-------------------+--------------------+----------------+------------------------------+-------------------------------------------+--------------------------------------------+-------------------------------------------+-----------------+\n",
      "only showing top 5 rows\n",
      "\n"
     ]
    }
   ],
   "source": [
    "host_df.show(5)"
   ]
  },
  {
   "cell_type": "code",
   "execution_count": null,
   "metadata": {},
   "outputs": [
    {
     "name": "stdout",
     "output_type": "stream",
     "text": [
      "+-------+--------------------+--------------+------------+---------------+--------------------+--------------------+---------------------+--------------------+--------+--------------------+-------------------+----------+-------------+--------------------+------------------+------------------+--------------------+-----------------+--------------------+--------------------+------------------+-------------------+-------------------------+------------------+--------------------+----------------------+--------------------+----------------------+----------------------------+--------+---------+--------------------+---------------+------------+---------+--------------+--------+----+--------------------+----------+--------------+--------------+----------------------+----------------------+----------------------+----------------------+----------------------+----------------------+----------------+----------------+---------------+---------------+---------------+----------------+---------------------+-----------------+---------------------+----------------------+------------+-----------+--------------------+----------------------+-------------------------+---------------------+---------------------------+----------------------+-------------------+--------------------+----------------+------------------------------+-------------------------------------------+--------------------------------------------+-------------------------------------------+-----------------+\n",
      "|     id|         listing_url|     scrape_id|last_scraped|         source|                name|         description|neighborhood_overview|         picture_url| host_id|            host_url|          host_name|host_since|host_location|          host_about|host_response_time|host_response_rate|host_acceptance_rate|host_is_superhost|  host_thumbnail_url|    host_picture_url|host_neighbourhood|host_listings_count|host_total_listings_count|host_verifications|host_has_profile_pic|host_identity_verified|       neighbourhood|neighbourhood_cleansed|neighbourhood_group_cleansed|latitude|longitude|       property_type|      room_type|accommodates|bathrooms|bathrooms_text|bedrooms|beds|           amenities|     price|minimum_nights|maximum_nights|minimum_minimum_nights|maximum_minimum_nights|minimum_maximum_nights|maximum_maximum_nights|minimum_nights_avg_ntm|maximum_nights_avg_ntm|calendar_updated|has_availability|availability_30|availability_60|availability_90|availability_365|calendar_last_scraped|number_of_reviews|number_of_reviews_ltm|number_of_reviews_l30d|first_review|last_review|review_scores_rating|review_scores_accuracy|review_scores_cleanliness|review_scores_checkin|review_scores_communication|review_scores_location|review_scores_value|             license|instant_bookable|calculated_host_listings_count|calculated_host_listings_count_entire_homes|calculated_host_listings_count_private_rooms|calculated_host_listings_count_shared_rooms|reviews_per_month|\n",
      "+-------+--------------------+--------------+------------+---------------+--------------------+--------------------+---------------------+--------------------+--------+--------------------+-------------------+----------+-------------+--------------------+------------------+------------------+--------------------+-----------------+--------------------+--------------------+------------------+-------------------+-------------------------+------------------+--------------------+----------------------+--------------------+----------------------+----------------------------+--------+---------+--------------------+---------------+------------+---------+--------------+--------+----+--------------------+----------+--------------+--------------+----------------------+----------------------+----------------------+----------------------+----------------------+----------------------+----------------+----------------+---------------+---------------+---------------+----------------+---------------------+-----------------+---------------------+----------------------+------------+-----------+--------------------+----------------------+-------------------------+---------------------+---------------------------+----------------------+-------------------+--------------------+----------------+------------------------------+-------------------------------------------+--------------------------------------------+-------------------------------------------+-----------------+\n",
      "| 197677|https://www.airbn...|20230924051543|  2023-09-24|    city scrape|Rental unit in Su...|<b>The space</b><...|                 NULL|https://a0.muscac...|  964081|https://www.airbn...|    Yoshimi & Marek|2011-08-13| Tokyo, Japan|Would love to tra...|      within a day|              100%|                 94%|                t|https://a0.muscac...|https://a0.muscac...|   Sumida District|                  1|                        2|['email', 'phone']|                   t|                     t|                NULL|             Sumida Ku|                        NULL|35.71707|139.82608|  Entire rental unit|Entire home/apt|           2|     NULL|        1 bath|     1.0| 2.0|Microwave|Hangers...|$12,000.00|             3|          1125|                   3.0|                   3.0|                1125.0|                1125.0|                   3.0|                1125.0|            NULL|               t|              0|              0|              0|              39|           2023-09-24|              174|                    8|                     0|  2011-09-21| 2023-08-13|                4.77|                  4.74|                     4.92|                 4.84|                       4.83|                  4.53|               4.79|          M130003350|               f|                             1|                                          1|                                           0|                                          0|             1.19|\n",
      "|5240174|https://www.airbn...|20230924051543|  2023-09-24|previous scrape|Rental unit in Sh...|Minimalist simple...|                 NULL|https://a0.muscac...|24477517|https://www.airbn...|              Naoko|2014-12-04| Tokyo, Japan|I was born in Tok...|              NULL|              NULL|                NULL|                f|https://a0.muscac...|https://a0.muscac...|  Shibuya District|                  4|                        4|['email', 'phone']|                   t|                     t|                NULL|            Shibuya Ku|                        NULL|35.66339|139.68741|  Entire rental unit|Entire home/apt|           4|     NULL|        1 bath|    NULL| 1.0|First aid kit|Sto...| $9,264.00|             2|           180|                   2.0|                   2.0|                1125.0|                1125.0|                   2.0|                1125.0|            NULL|               t|              0|              0|              0|               0|           2023-09-24|              195|                    0|                     0|  2015-04-05| 2021-12-30|                4.52|                  4.62|                     4.54|                 4.77|                       4.83|                  4.29|                4.3|          M130005396|               t|                             4|                                          4|                                           0|                                          0|             1.89|\n",
      "|5262640|https://www.airbn...|20230924051543|  2023-09-24|    city scrape|Rental unit in Na...|It takes 5 min wa...| No smoking in the...|https://a0.muscac...|17736560|https://www.airbn...|  タツロウ (Taturo)|2014-07-06|Nakano, Japan|I am a retired pe...|    within an hour|              100%|                100%|                t|https://a0.muscac...|https://a0.muscac...|   Nakano District|                  9|                       16|['email', 'phone']|                   t|                     t|Nakano-ku, Tōkyō-...|             Nakano Ku|                        NULL|35.73445|139.63139|  Entire rental unit|Entire home/apt|           2|     NULL|        1 bath|     1.0| 1.0|Kitchen|TV|Fire e...| $7,419.00|             3|          1125|                   3.0|                   3.0|                1125.0|                1125.0|                   3.0|                1125.0|            NULL|               t|             30|             60|             90|              90|           2023-09-24|               61|                    9|                     0|  2015-03-26| 2023-08-14|                 4.8|                   4.9|                     4.85|                 4.93|                       4.87|                  4.61|               4.77|Hotels and Inns B...|               f|                             9|                                          9|                                           0|                                          0|             0.59|\n",
      "| 776070|https://www.airbn...|20230924051543|  2023-09-24|    city scrape|Home in Kita-ku ·...|We have been in a...| We love Nishinipp...|https://a0.muscac...|  801494|https://www.airbn...|                Kei|2011-07-10|        Japan|Love culture/food...|    within an hour|              100%|                100%|                t|https://a0.muscac...|https://a0.muscac...|     Kita District|                  1|                        6|['email', 'phone']|                   t|                     t|Kita-ku, Tokyo, J...|               Kita Ku|                        NULL|35.73844|139.76917|Private room in home|   Private room|           1|     NULL| 1 shared bath|    NULL| 1.0|Luggage dropoff a...| $8,902.00|             3|            14|                   3.0|                   3.0|                  14.0|                  14.0|                   3.0|                  14.0|            NULL|               t|              0|              0|              0|             116|           2023-09-24|              248|                   18|                     1|  2012-11-28| 2023-08-27|                4.98|                  4.96|                     4.92|                 4.98|                       4.98|                  4.84|               4.91|          M130000243|               f|                             1|                                          0|                                           1|                                          0|             1.88|\n",
      "| 905944|https://www.airbn...|20230924051543|  2023-09-24|    city scrape|Rental unit in Sh...|NEWLY RENOVATED p...| Hatagaya is a gre...|https://a0.muscac...| 4847803|https://www.airbn...|Best Stay In Tokyo!|2013-01-25| Tokyo, Japan|A host backed up ...|    within an hour|              100%|                100%|                t|https://a0.muscac...|https://a0.muscac...|  Shibuya District|                  5|                       18|['email', 'phone']|                   t|                     t|Shibuya, Tokyo, J...|            Shibuya Ku|                        NULL|35.67878|139.67847|  Entire rental unit|Entire home/apt|           6|     NULL|        1 bath|     2.0| 4.0|Japan available b...|$23,740.00|             3|          1125|                   1.0|                   5.0|                 365.0|                1125.0|                   3.7|                 906.6|            NULL|               t|              3|              7|             20|             166|           2023-09-24|              194|                    9|                     1|  2013-04-07| 2023-09-11|                4.77|                  4.79|                     4.76|                 4.87|                       4.91|                  4.78|               4.78|Hotels and Inns B...|               t|                             5|                                          5|                                           0|                                          0|             1.52|\n",
      "+-------+--------------------+--------------+------------+---------------+--------------------+--------------------+---------------------+--------------------+--------+--------------------+-------------------+----------+-------------+--------------------+------------------+------------------+--------------------+-----------------+--------------------+--------------------+------------------+-------------------+-------------------------+------------------+--------------------+----------------------+--------------------+----------------------+----------------------------+--------+---------+--------------------+---------------+------------+---------+--------------+--------+----+--------------------+----------+--------------+--------------+----------------------+----------------------+----------------------+----------------------+----------------------+----------------------+----------------+----------------+---------------+---------------+---------------+----------------+---------------------+-----------------+---------------------+----------------------+------------+-----------+--------------------+----------------------+-------------------------+---------------------+---------------------------+----------------------+-------------------+--------------------+----------------+------------------------------+-------------------------------------------+--------------------------------------------+-------------------------------------------+-----------------+\n",
      "only showing top 5 rows\n",
      "\n",
      "None\n",
      "+--------+--------------------+-------------------+----------+--------------------+------------------+------------------+--------------------+-----------------+------------------+-------------------------+------------------+----------------------+\n",
      "| host_id|            host_url|          host_name|host_since|          host_about|host_response_time|host_response_rate|host_acceptance_rate|host_is_superhost|host_neighbourhood|host_total_listings_count|host_verifications|host_identity_verified|\n",
      "+--------+--------------------+-------------------+----------+--------------------+------------------+------------------+--------------------+-----------------+------------------+-------------------------+------------------+----------------------+\n",
      "|  964081|https://www.airbn...|    Yoshimi & Marek|2011-08-13|Would love to tra...|      within a day|              100%|                 94%|                t|   Sumida District|                        2|['email', 'phone']|                     t|\n",
      "|24477517|https://www.airbn...|              Naoko|2014-12-04|I was born in Tok...|              NULL|              NULL|                NULL|                f|  Shibuya District|                        4|['email', 'phone']|                     t|\n",
      "|17736560|https://www.airbn...|  タツロウ (Taturo)|2014-07-06|I am a retired pe...|    within an hour|              100%|                100%|                t|   Nakano District|                       16|['email', 'phone']|                     t|\n",
      "|  801494|https://www.airbn...|                Kei|2011-07-10|Love culture/food...|    within an hour|              100%|                100%|                t|     Kita District|                        6|['email', 'phone']|                     t|\n",
      "| 4847803|https://www.airbn...|Best Stay In Tokyo!|2013-01-25|A host backed up ...|    within an hour|              100%|                100%|                t|  Shibuya District|                       18|['email', 'phone']|                     t|\n",
      "+--------+--------------------+-------------------+----------+--------------------+------------------+------------------+--------------------+-----------------+------------------+-------------------------+------------------+----------------------+\n",
      "only showing top 5 rows\n",
      "\n",
      "None\n",
      "root\n",
      " |-- host_id: long (nullable = false)\n",
      " |-- host_url: string (nullable = false)\n",
      " |-- host_name: string (nullable = false)\n",
      " |-- host_since: date (nullable = true)\n",
      " |-- host_about: string (nullable = true)\n",
      " |-- host_response_time: string (nullable = true)\n",
      " |-- host_response_rate: string (nullable = true)\n",
      " |-- host_acceptance_rate: string (nullable = true)\n",
      " |-- host_is_superhost: string (nullable = true)\n",
      " |-- host_neighbourhood: string (nullable = true)\n",
      " |-- host_total_listings_count: long (nullable = false)\n",
      " |-- host_verifications: string (nullable = false)\n",
      " |-- host_identity_verified: string (nullable = false)\n",
      "\n",
      "None\n"
     ]
    }
   ],
   "source": [
    "from pyspark.sql.functions import to_date\n",
    "for i in host_schema:\n",
    "    if isinstance( i.dataType ,DateType):\n",
    "        host_df = host_df.withColumn(i.name, to_date(col(i.name)) )\n",
    "\n",
    "\n",
    "host_df = host_df.select([col(i.name) for i in host_schema])\n",
    "print(host_df.show(5))\n",
    "print(host_df.printSchema())\n"
   ]
  },
  {
   "cell_type": "code",
   "execution_count": 9,
   "metadata": {},
   "outputs": [
    {
     "name": "stdout",
     "output_type": "stream",
     "text": [
      "+-------+--------------------+--------------+------------+---------------+--------------------+--------------------+---------------------+--------------------+--------+--------------------+-------------------+----------+-------------+--------------------+------------------+------------------+--------------------+-----------------+--------------------+--------------------+------------------+-------------------+-------------------------+------------------+--------------------+----------------------+--------------------+----------------------+----------------------------+--------+---------+--------------------+---------------+------------+---------+--------------+--------+----+--------------------+----------+--------------+--------------+----------------------+----------------------+----------------------+----------------------+----------------------+----------------------+----------------+----------------+---------------+---------------+---------------+----------------+---------------------+-----------------+---------------------+----------------------+------------+-----------+--------------------+----------------------+-------------------------+---------------------+---------------------------+----------------------+-------------------+--------------------+----------------+------------------------------+-------------------------------------------+--------------------------------------------+-------------------------------------------+-----------------+\n",
      "|     id|         listing_url|     scrape_id|last_scraped|         source|                name|         description|neighborhood_overview|         picture_url| host_id|            host_url|          host_name|host_since|host_location|          host_about|host_response_time|host_response_rate|host_acceptance_rate|host_is_superhost|  host_thumbnail_url|    host_picture_url|host_neighbourhood|host_listings_count|host_total_listings_count|host_verifications|host_has_profile_pic|host_identity_verified|       neighbourhood|neighbourhood_cleansed|neighbourhood_group_cleansed|latitude|longitude|       property_type|      room_type|accommodates|bathrooms|bathrooms_text|bedrooms|beds|           amenities|     price|minimum_nights|maximum_nights|minimum_minimum_nights|maximum_minimum_nights|minimum_maximum_nights|maximum_maximum_nights|minimum_nights_avg_ntm|maximum_nights_avg_ntm|calendar_updated|has_availability|availability_30|availability_60|availability_90|availability_365|calendar_last_scraped|number_of_reviews|number_of_reviews_ltm|number_of_reviews_l30d|first_review|last_review|review_scores_rating|review_scores_accuracy|review_scores_cleanliness|review_scores_checkin|review_scores_communication|review_scores_location|review_scores_value|             license|instant_bookable|calculated_host_listings_count|calculated_host_listings_count_entire_homes|calculated_host_listings_count_private_rooms|calculated_host_listings_count_shared_rooms|reviews_per_month|\n",
      "+-------+--------------------+--------------+------------+---------------+--------------------+--------------------+---------------------+--------------------+--------+--------------------+-------------------+----------+-------------+--------------------+------------------+------------------+--------------------+-----------------+--------------------+--------------------+------------------+-------------------+-------------------------+------------------+--------------------+----------------------+--------------------+----------------------+----------------------------+--------+---------+--------------------+---------------+------------+---------+--------------+--------+----+--------------------+----------+--------------+--------------+----------------------+----------------------+----------------------+----------------------+----------------------+----------------------+----------------+----------------+---------------+---------------+---------------+----------------+---------------------+-----------------+---------------------+----------------------+------------+-----------+--------------------+----------------------+-------------------------+---------------------+---------------------------+----------------------+-------------------+--------------------+----------------+------------------------------+-------------------------------------------+--------------------------------------------+-------------------------------------------+-----------------+\n",
      "| 197677|https://www.airbn...|20230924051543|  2023-09-24|    city scrape|Rental unit in Su...|<b>The space</b><...|                 NULL|https://a0.muscac...|  964081|https://www.airbn...|    Yoshimi & Marek|2011-08-13| Tokyo, Japan|Would love to tra...|      within a day|              100%|                 94%|                t|https://a0.muscac...|https://a0.muscac...|   Sumida District|                  1|                        2|['email', 'phone']|                   t|                     t|                NULL|             Sumida Ku|                        NULL|35.71707|139.82608|  Entire rental unit|Entire home/apt|           2|     NULL|        1 bath|     1.0| 2.0|Microwave|Hangers...|$12,000.00|             3|          1125|                   3.0|                   3.0|                1125.0|                1125.0|                   3.0|                1125.0|            NULL|               t|              0|              0|              0|              39|           2023-09-24|              174|                    8|                     0|  2011-09-21| 2023-08-13|                4.77|                  4.74|                     4.92|                 4.84|                       4.83|                  4.53|               4.79|          M130003350|               f|                             1|                                          1|                                           0|                                          0|             1.19|\n",
      "|5240174|https://www.airbn...|20230924051543|  2023-09-24|previous scrape|Rental unit in Sh...|Minimalist simple...|                 NULL|https://a0.muscac...|24477517|https://www.airbn...|              Naoko|2014-12-04| Tokyo, Japan|I was born in Tok...|              NULL|              NULL|                NULL|                f|https://a0.muscac...|https://a0.muscac...|  Shibuya District|                  4|                        4|['email', 'phone']|                   t|                     t|                NULL|            Shibuya Ku|                        NULL|35.66339|139.68741|  Entire rental unit|Entire home/apt|           4|     NULL|        1 bath|    NULL| 1.0|First aid kit|Sto...| $9,264.00|             2|           180|                   2.0|                   2.0|                1125.0|                1125.0|                   2.0|                1125.0|            NULL|               t|              0|              0|              0|               0|           2023-09-24|              195|                    0|                     0|  2015-04-05| 2021-12-30|                4.52|                  4.62|                     4.54|                 4.77|                       4.83|                  4.29|                4.3|          M130005396|               t|                             4|                                          4|                                           0|                                          0|             1.89|\n",
      "|5262640|https://www.airbn...|20230924051543|  2023-09-24|    city scrape|Rental unit in Na...|It takes 5 min wa...| No smoking in the...|https://a0.muscac...|17736560|https://www.airbn...|  タツロウ (Taturo)|2014-07-06|Nakano, Japan|I am a retired pe...|    within an hour|              100%|                100%|                t|https://a0.muscac...|https://a0.muscac...|   Nakano District|                  9|                       16|['email', 'phone']|                   t|                     t|Nakano-ku, Tōkyō-...|             Nakano Ku|                        NULL|35.73445|139.63139|  Entire rental unit|Entire home/apt|           2|     NULL|        1 bath|     1.0| 1.0|Kitchen|TV|Fire e...| $7,419.00|             3|          1125|                   3.0|                   3.0|                1125.0|                1125.0|                   3.0|                1125.0|            NULL|               t|             30|             60|             90|              90|           2023-09-24|               61|                    9|                     0|  2015-03-26| 2023-08-14|                 4.8|                   4.9|                     4.85|                 4.93|                       4.87|                  4.61|               4.77|Hotels and Inns B...|               f|                             9|                                          9|                                           0|                                          0|             0.59|\n",
      "| 776070|https://www.airbn...|20230924051543|  2023-09-24|    city scrape|Home in Kita-ku ·...|We have been in a...| We love Nishinipp...|https://a0.muscac...|  801494|https://www.airbn...|                Kei|2011-07-10|        Japan|Love culture/food...|    within an hour|              100%|                100%|                t|https://a0.muscac...|https://a0.muscac...|     Kita District|                  1|                        6|['email', 'phone']|                   t|                     t|Kita-ku, Tokyo, J...|               Kita Ku|                        NULL|35.73844|139.76917|Private room in home|   Private room|           1|     NULL| 1 shared bath|    NULL| 1.0|Luggage dropoff a...| $8,902.00|             3|            14|                   3.0|                   3.0|                  14.0|                  14.0|                   3.0|                  14.0|            NULL|               t|              0|              0|              0|             116|           2023-09-24|              248|                   18|                     1|  2012-11-28| 2023-08-27|                4.98|                  4.96|                     4.92|                 4.98|                       4.98|                  4.84|               4.91|          M130000243|               f|                             1|                                          0|                                           1|                                          0|             1.88|\n",
      "| 905944|https://www.airbn...|20230924051543|  2023-09-24|    city scrape|Rental unit in Sh...|NEWLY RENOVATED p...| Hatagaya is a gre...|https://a0.muscac...| 4847803|https://www.airbn...|Best Stay In Tokyo!|2013-01-25| Tokyo, Japan|A host backed up ...|    within an hour|              100%|                100%|                t|https://a0.muscac...|https://a0.muscac...|  Shibuya District|                  5|                       18|['email', 'phone']|                   t|                     t|Shibuya, Tokyo, J...|            Shibuya Ku|                        NULL|35.67878|139.67847|  Entire rental unit|Entire home/apt|           6|     NULL|        1 bath|     2.0| 4.0|Japan available b...|$23,740.00|             3|          1125|                   1.0|                   5.0|                 365.0|                1125.0|                   3.7|                 906.6|            NULL|               t|              3|              7|             20|             166|           2023-09-24|              194|                    9|                     1|  2013-04-07| 2023-09-11|                4.77|                  4.79|                     4.76|                 4.87|                       4.91|                  4.78|               4.78|Hotels and Inns B...|               t|                             5|                                          5|                                           0|                                          0|             1.52|\n",
      "+-------+--------------------+--------------+------------+---------------+--------------------+--------------------+---------------------+--------------------+--------+--------------------+-------------------+----------+-------------+--------------------+------------------+------------------+--------------------+-----------------+--------------------+--------------------+------------------+-------------------+-------------------------+------------------+--------------------+----------------------+--------------------+----------------------+----------------------------+--------+---------+--------------------+---------------+------------+---------+--------------+--------+----+--------------------+----------+--------------+--------------+----------------------+----------------------+----------------------+----------------------+----------------------+----------------------+----------------+----------------+---------------+---------------+---------------+----------------+---------------------+-----------------+---------------------+----------------------+------------+-----------+--------------------+----------------------+-------------------------+---------------------+---------------------------+----------------------+-------------------+--------------------+----------------+------------------------------+-------------------------------------------+--------------------------------------------+-------------------------------------------+-----------------+\n",
      "only showing top 5 rows\n",
      "\n"
     ]
    }
   ],
   "source": [
    "host_df.na.fill(value='0%',subset=['host_response_rate','host_acceptance_rate'])\n",
    "host_df.show(5)"
   ]
  },
  {
   "cell_type": "code",
   "execution_count": 10,
   "metadata": {},
   "outputs": [],
   "source": [
    "#host_df.write.option(\"header\",True).csv('/home/jovyan/code/airbnb_data/japan/host')"
   ]
  },
  {
   "cell_type": "code",
   "execution_count": null,
   "metadata": {},
   "outputs": [],
   "source": []
  }
 ],
 "metadata": {
  "kernelspec": {
   "display_name": "vscode_pyspark",
   "language": "python",
   "name": "vscode_pyspark"
  },
  "language_info": {
   "codemirror_mode": {
    "name": "ipython",
    "version": 3
   },
   "file_extension": ".py",
   "mimetype": "text/x-python",
   "name": "python",
   "nbconvert_exporter": "python",
   "pygments_lexer": "ipython3",
   "version": "3.11.7"
  }
 },
 "nbformat": 4,
 "nbformat_minor": 2
}
