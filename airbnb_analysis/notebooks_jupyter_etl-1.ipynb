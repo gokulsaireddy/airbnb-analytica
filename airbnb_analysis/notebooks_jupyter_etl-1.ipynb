{
 "cells": [
  {
   "cell_type": "code",
   "execution_count": 1,
   "id": "85bbff34",
   "metadata": {},
   "outputs": [
    {
     "name": "stderr",
     "output_type": "stream",
     "text": [
      "Setting default log level to \"WARN\".\n",
      "To adjust logging level use sc.setLogLevel(newLevel). For SparkR, use setLogLevel(newLevel).\n",
      "24/01/21 03:42:40 INFO SparkEnv: Registering MapOutputTracker\n",
      "24/01/21 03:42:40 INFO SparkEnv: Registering BlockManagerMaster\n",
      "24/01/21 03:42:40 INFO SparkEnv: Registering BlockManagerMasterHeartbeat\n",
      "24/01/21 03:42:40 INFO SparkEnv: Registering OutputCommitCoordinator\n"
     ]
    }
   ],
   "source": [
    "from pyspark.sql import SparkSession\n",
    "\n",
    "spark = SparkSession.builder \\\n",
    "  .appName('calendar migration') \\\n",
    "  .getOrCreate()\n",
    "spark.conf.set(\"spark.sql.repl.eagerEval.enabled\",True)\n"
   ]
  },
  {
   "cell_type": "code",
   "execution_count": 2,
   "id": "ac261f92",
   "metadata": {},
   "outputs": [],
   "source": [
    "rawdata_bucket = 'airbnb-raw-data'   \n",
    "prefix = 'japan/27-12-2023/'    # Should be parameterized"
   ]
  },
  {
   "cell_type": "code",
   "execution_count": 3,
   "id": "b828de0a",
   "metadata": {},
   "outputs": [
    {
     "name": "stdout",
     "output_type": "stream",
     "text": [
      "japan/27-12-2023/calendar.csv\n",
      "japan/27-12-2023/listings.csv\n",
      "japan/27-12-2023/neighbourhoods.geojson\n",
      "japan/27-12-2023/reviews.csv\n"
     ]
    }
   ],
   "source": [
    "from google.cloud import storage\n",
    "\n",
    "storage_client = storage.Client()\n",
    "blobs = storage_client.list_blobs(rawdata_bucket,prefix=prefix)\n",
    "\n",
    "for blob in blobs:\n",
    "    if not blob.name.endswith('/'):\n",
    "        print(blob.name)"
   ]
  },
  {
   "cell_type": "code",
   "execution_count": 4,
   "id": "a8cfacd2",
   "metadata": {},
   "outputs": [
    {
     "name": "stderr",
     "output_type": "stream",
     "text": [
      "                                                                                \r"
     ]
    },
    {
     "data": {
      "text/html": [
       "<table border='1'>\n",
       "<tr><th>listing_id</th><th>date</th><th>available</th><th>price</th><th>adjusted_price</th><th>minimum_nights</th><th>maximum_nights</th></tr>\n",
       "<tr><td>197677</td><td>2023-12-28</td><td>f</td><td>$12,000.00</td><td>null</td><td>3</td><td>1125</td></tr>\n",
       "<tr><td>197677</td><td>2023-12-29</td><td>f</td><td>$12,000.00</td><td>null</td><td>3</td><td>1125</td></tr>\n",
       "<tr><td>197677</td><td>2023-12-30</td><td>f</td><td>$12,000.00</td><td>null</td><td>3</td><td>1125</td></tr>\n",
       "<tr><td>197677</td><td>2023-12-31</td><td>f</td><td>$12,000.00</td><td>null</td><td>3</td><td>1125</td></tr>\n",
       "<tr><td>197677</td><td>2024-01-01</td><td>f</td><td>$12,000.00</td><td>null</td><td>3</td><td>1125</td></tr>\n",
       "<tr><td>197677</td><td>2024-01-02</td><td>f</td><td>$12,000.00</td><td>null</td><td>3</td><td>1125</td></tr>\n",
       "<tr><td>197677</td><td>2024-01-03</td><td>f</td><td>$12,000.00</td><td>null</td><td>3</td><td>1125</td></tr>\n",
       "<tr><td>197677</td><td>2024-01-04</td><td>f</td><td>$12,000.00</td><td>null</td><td>3</td><td>1125</td></tr>\n",
       "<tr><td>197677</td><td>2024-01-05</td><td>f</td><td>$12,000.00</td><td>null</td><td>3</td><td>1125</td></tr>\n",
       "<tr><td>197677</td><td>2024-01-06</td><td>f</td><td>$12,000.00</td><td>null</td><td>3</td><td>1125</td></tr>\n",
       "<tr><td>197677</td><td>2024-01-07</td><td>f</td><td>$12,000.00</td><td>null</td><td>3</td><td>1125</td></tr>\n",
       "<tr><td>197677</td><td>2024-01-08</td><td>f</td><td>$12,000.00</td><td>null</td><td>3</td><td>1125</td></tr>\n",
       "<tr><td>197677</td><td>2024-01-09</td><td>f</td><td>$12,000.00</td><td>null</td><td>3</td><td>1125</td></tr>\n",
       "<tr><td>197677</td><td>2024-01-10</td><td>f</td><td>$12,000.00</td><td>null</td><td>3</td><td>1125</td></tr>\n",
       "<tr><td>197677</td><td>2024-01-11</td><td>f</td><td>$12,000.00</td><td>null</td><td>3</td><td>1125</td></tr>\n",
       "<tr><td>197677</td><td>2024-01-12</td><td>f</td><td>$12,000.00</td><td>null</td><td>3</td><td>1125</td></tr>\n",
       "<tr><td>197677</td><td>2024-01-13</td><td>f</td><td>$12,000.00</td><td>null</td><td>3</td><td>1125</td></tr>\n",
       "<tr><td>197677</td><td>2024-01-14</td><td>f</td><td>$12,000.00</td><td>null</td><td>3</td><td>1125</td></tr>\n",
       "<tr><td>197677</td><td>2024-01-15</td><td>f</td><td>$12,000.00</td><td>null</td><td>3</td><td>1125</td></tr>\n",
       "<tr><td>197677</td><td>2024-01-16</td><td>f</td><td>$12,000.00</td><td>null</td><td>3</td><td>1125</td></tr>\n",
       "</table>\n",
       "only showing top 20 rows\n"
      ],
      "text/plain": [
       "+----------+----------+---------+----------+--------------+--------------+--------------+\n",
       "|listing_id|      date|available|     price|adjusted_price|minimum_nights|maximum_nights|\n",
       "+----------+----------+---------+----------+--------------+--------------+--------------+\n",
       "|    197677|2023-12-28|        f|$12,000.00|          null|             3|          1125|\n",
       "|    197677|2023-12-29|        f|$12,000.00|          null|             3|          1125|\n",
       "|    197677|2023-12-30|        f|$12,000.00|          null|             3|          1125|\n",
       "|    197677|2023-12-31|        f|$12,000.00|          null|             3|          1125|\n",
       "|    197677|2024-01-01|        f|$12,000.00|          null|             3|          1125|\n",
       "|    197677|2024-01-02|        f|$12,000.00|          null|             3|          1125|\n",
       "|    197677|2024-01-03|        f|$12,000.00|          null|             3|          1125|\n",
       "|    197677|2024-01-04|        f|$12,000.00|          null|             3|          1125|\n",
       "|    197677|2024-01-05|        f|$12,000.00|          null|             3|          1125|\n",
       "|    197677|2024-01-06|        f|$12,000.00|          null|             3|          1125|\n",
       "|    197677|2024-01-07|        f|$12,000.00|          null|             3|          1125|\n",
       "|    197677|2024-01-08|        f|$12,000.00|          null|             3|          1125|\n",
       "|    197677|2024-01-09|        f|$12,000.00|          null|             3|          1125|\n",
       "|    197677|2024-01-10|        f|$12,000.00|          null|             3|          1125|\n",
       "|    197677|2024-01-11|        f|$12,000.00|          null|             3|          1125|\n",
       "|    197677|2024-01-12|        f|$12,000.00|          null|             3|          1125|\n",
       "|    197677|2024-01-13|        f|$12,000.00|          null|             3|          1125|\n",
       "|    197677|2024-01-14|        f|$12,000.00|          null|             3|          1125|\n",
       "|    197677|2024-01-15|        f|$12,000.00|          null|             3|          1125|\n",
       "|    197677|2024-01-16|        f|$12,000.00|          null|             3|          1125|\n",
       "+----------+----------+---------+----------+--------------+--------------+--------------+\n",
       "only showing top 20 rows"
      ]
     },
     "execution_count": 4,
     "metadata": {},
     "output_type": "execute_result"
    }
   ],
   "source": [
    "cal_df = spark \\\n",
    "  .read \\\n",
    "  .option ( \"header\" , \"true\" ) \\\n",
    "  .csv ( f\"gs://{rawdata_bucket}/japan/27-12-2023/calendar.csv\" )\n",
    "\n",
    "cal_df"
   ]
  },
  {
   "cell_type": "code",
   "execution_count": 5,
   "id": "ec1253e9",
   "metadata": {},
   "outputs": [
    {
     "name": "stdout",
     "output_type": "stream",
     "text": [
      "root\n",
      " |-- listing_id: string (nullable = true)\n",
      " |-- date: string (nullable = true)\n",
      " |-- available: string (nullable = true)\n",
      " |-- price: string (nullable = true)\n",
      " |-- adjusted_price: string (nullable = true)\n",
      " |-- minimum_nights: string (nullable = true)\n",
      " |-- maximum_nights: string (nullable = true)\n",
      "\n",
      "No of paritions :  2\n"
     ]
    }
   ],
   "source": [
    "cal_df.printSchema()\n",
    "print('No of paritions : ', cal_df.rdd.getNumPartitions() )\n",
    "# print('No of rows in df : ', cal_df.count())\n",
    "# print('No of null rows in df :',cal_df.na.drop().count())"
   ]
  },
  {
   "cell_type": "code",
   "execution_count": 6,
   "id": "ce6f159c",
   "metadata": {},
   "outputs": [],
   "source": [
    "import pyspark.sql.functions as F\n",
    "\n",
    "# check if any cols has null values\n",
    "\n",
    "def print_na_cols(df):\n",
    "    for c in df.columns:\n",
    "        print(f'For col {c}:',df.filter(F.col(c).isNull()).count())\n",
    "        \n"
   ]
  },
  {
   "cell_type": "code",
   "execution_count": 7,
   "id": "2257ab66",
   "metadata": {},
   "outputs": [
    {
     "name": "stderr",
     "output_type": "stream",
     "text": [
      "                                                                                \r"
     ]
    },
    {
     "data": {
      "text/html": [
       "<table border='1'>\n",
       "<tr><th>regexp_replace(price, [\\$,], , 1)</th></tr>\n",
       "<tr><td>12000.00</td></tr>\n",
       "<tr><td>12000.00</td></tr>\n",
       "<tr><td>12000.00</td></tr>\n",
       "<tr><td>12000.00</td></tr>\n",
       "<tr><td>12000.00</td></tr>\n",
       "<tr><td>12000.00</td></tr>\n",
       "<tr><td>12000.00</td></tr>\n",
       "<tr><td>12000.00</td></tr>\n",
       "<tr><td>12000.00</td></tr>\n",
       "<tr><td>12000.00</td></tr>\n",
       "<tr><td>12000.00</td></tr>\n",
       "<tr><td>12000.00</td></tr>\n",
       "<tr><td>12000.00</td></tr>\n",
       "<tr><td>12000.00</td></tr>\n",
       "<tr><td>12000.00</td></tr>\n",
       "<tr><td>12000.00</td></tr>\n",
       "<tr><td>12000.00</td></tr>\n",
       "<tr><td>12000.00</td></tr>\n",
       "<tr><td>12000.00</td></tr>\n",
       "<tr><td>12000.00</td></tr>\n",
       "</table>\n",
       "only showing top 20 rows\n"
      ],
      "text/plain": [
       "+---------------------------------+\n",
       "|regexp_replace(price, [\\$,], , 1)|\n",
       "+---------------------------------+\n",
       "|                         12000.00|\n",
       "|                         12000.00|\n",
       "|                         12000.00|\n",
       "|                         12000.00|\n",
       "|                         12000.00|\n",
       "|                         12000.00|\n",
       "|                         12000.00|\n",
       "|                         12000.00|\n",
       "|                         12000.00|\n",
       "|                         12000.00|\n",
       "|                         12000.00|\n",
       "|                         12000.00|\n",
       "|                         12000.00|\n",
       "|                         12000.00|\n",
       "|                         12000.00|\n",
       "|                         12000.00|\n",
       "|                         12000.00|\n",
       "|                         12000.00|\n",
       "|                         12000.00|\n",
       "|                         12000.00|\n",
       "+---------------------------------+\n",
       "only showing top 20 rows"
      ]
     },
     "execution_count": 7,
     "metadata": {},
     "output_type": "execute_result"
    }
   ],
   "source": [
    "\n",
    "cal_df.select(F.regexp_replace(cal_df.price, '[\\$,]', ''))"
   ]
  },
  {
   "cell_type": "code",
   "execution_count": 8,
   "id": "a20e98f4",
   "metadata": {},
   "outputs": [
    {
     "name": "stdout",
     "output_type": "stream",
     "text": [
      "root\n",
      " |-- listing_id: string (nullable = true)\n",
      " |-- date: date (nullable = true)\n",
      " |-- available: boolean (nullable = true)\n",
      " |-- price: decimal(38,9) (nullable = true)\n",
      " |-- minimum_nights: string (nullable = true)\n",
      " |-- maximum_nights: string (nullable = true)\n",
      "\n"
     ]
    }
   ],
   "source": [
    "import re \n",
    "import pyspark.sql.types as T\n",
    "\n",
    "\n",
    "cal_df = cal_df.withColumn('date',cal_df['date'].cast(T.DateType())).\\\n",
    "                withColumn('available',cal_df['available'].cast(T.BooleanType())).\\\n",
    "                withColumn('price',  F.regexp_replace(cal_df['price'], '[\\$,]', '').cast(T.DecimalType(38,9)))\n",
    "cal_df = cal_df.drop('adjusted_price')\n",
    "cal_df.printSchema()\n"
   ]
  },
  {
   "cell_type": "code",
   "execution_count": 9,
   "id": "50f7ef1d",
   "metadata": {},
   "outputs": [
    {
     "name": "stdout",
     "output_type": "stream",
     "text": [
      "root\n",
      " |-- listing_id: long (nullable = true)\n",
      " |-- date: date (nullable = true)\n",
      " |-- available: boolean (nullable = true)\n",
      " |-- price: decimal(38,9) (nullable = true)\n",
      " |-- minimum_nights: long (nullable = true)\n",
      " |-- maximum_nights: long (nullable = true)\n",
      "\n"
     ]
    }
   ],
   "source": [
    "\n",
    "\n",
    "cal_df = cal_df.withColumn('minimum_nights',cal_df['minimum_nights'].cast(T.LongType())).\\\n",
    "                withColumn('maximum_nights',cal_df['maximum_nights'].cast(T.LongType())).\\\n",
    "                withColumn('listing_id',cal_df['listing_id'].cast(T.LongType()))\n",
    "cal_df.printSchema()"
   ]
  },
  {
   "cell_type": "code",
   "execution_count": 16,
   "id": "2353b6d7",
   "metadata": {},
   "outputs": [],
   "source": [
    "    \n",
    "def read_from_bq(dataset,table):\n",
    "    return spark.read.format(\"bigquery\").option(\"table\",\"{}.{}\".format(dataset, table)).load()"
   ]
  },
  {
   "cell_type": "code",
   "execution_count": 19,
   "id": "5364d4d9",
   "metadata": {},
   "outputs": [
    {
     "name": "stdout",
     "output_type": "stream",
     "text": [
      "gs://airbnb-staging-data/japan/27-12-2023//\n"
     ]
    },
    {
     "name": "stderr",
     "output_type": "stream",
     "text": [
      "                                                                                \r"
     ]
    }
   ],
   "source": [
    "table = 'dim_calendar'\n",
    "dataset = 'airbnb'\n",
    "gcs_staging_bucket = 'airbnb-staging-data'\n",
    "gcs_staging_data_path = 'gs://{}/{}/'.format(gcs_staging_bucket,prefix)\n",
    "print(gcs_staging_data_path)\n",
    "cal_df.coalesce(1).write \\\n",
    "  .mode('overwrite') \\\n",
    "  .parquet(gcs_staging_data_path)\n",
    "\n",
    "#df = read_from_bq(dataset,table)\n",
    "#df.printSchema()"
   ]
  },
  {
   "cell_type": "code",
   "execution_count": 15,
   "id": "347cd5de",
   "metadata": {},
   "outputs": [
    {
     "name": "stderr",
     "output_type": "stream",
     "text": [
      "24/01/21 03:56:27 WARN BigQueryDataSourceWriterInsertableRelation: It seems that 2 out of 0 partitions have failed, aborting\n",
      "24/01/21 03:56:27 WARN BigQueryDirectDataSourceWriterContext: BigQuery Data Source writer dbd14af1-cada-4854-b6c9-ff921f090c16 aborted\n"
     ]
    }
   ],
   "source": []
  },
  {
   "cell_type": "code",
   "execution_count": null,
   "id": "1bbf99d5",
   "metadata": {},
   "outputs": [],
   "source": []
  },
  {
   "cell_type": "code",
   "execution_count": null,
   "id": "614a5c26",
   "metadata": {},
   "outputs": [],
   "source": []
  },
  {
   "cell_type": "code",
   "execution_count": null,
   "id": "60fb6a85",
   "metadata": {},
   "outputs": [],
   "source": []
  },
  {
   "cell_type": "code",
   "execution_count": null,
   "id": "e31f3c18",
   "metadata": {},
   "outputs": [],
   "source": []
  },
  {
   "cell_type": "code",
   "execution_count": null,
   "id": "c134b8a1",
   "metadata": {},
   "outputs": [],
   "source": []
  }
 ],
 "metadata": {
  "kernelspec": {
   "display_name": "Python 3",
   "language": "python",
   "name": "python3"
  },
  "language_info": {
   "codemirror_mode": {
    "name": "ipython",
    "version": 3
   },
   "file_extension": ".py",
   "mimetype": "text/x-python",
   "name": "python",
   "nbconvert_exporter": "python",
   "pygments_lexer": "ipython3",
   "version": "3.10.8"
  }
 },
 "nbformat": 4,
 "nbformat_minor": 5
}